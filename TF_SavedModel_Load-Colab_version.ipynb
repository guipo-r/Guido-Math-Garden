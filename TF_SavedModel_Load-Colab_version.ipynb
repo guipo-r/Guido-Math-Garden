{
 "cells": [
  {
   "cell_type": "markdown",
   "metadata": {
    "id": "OkGMOKfh3_fJ"
   },
   "source": [
    "# Imports"
   ]
  },
  {
   "cell_type": "code",
   "execution_count": null,
   "metadata": {
    "id": "G8_f-9dF3FEF"
   },
   "outputs": [],
   "source": [
    "import numpy as np\n",
    "import tensorflow as tf\n",
    "\n",
    "from tensorflow.compat.v1.saved_model import load, tag_constants"
   ]
  },
  {
   "cell_type": "markdown",
   "metadata": {
    "id": "kmgrY5BO4BlV"
   },
   "source": [
    "#Constants"
   ]
  },
  {
   "cell_type": "code",
   "execution_count": null,
   "metadata": {
    "id": "AeGOM0eL4Cvp"
   },
   "outputs": [],
   "source": [
    "X_TEST_PATH = '/content/load_xtesta.csv'\n",
    "Y_TEST_PATH = '/content/load_ytest.csv'"
   ]
  },
  {
   "cell_type": "markdown",
   "metadata": {
    "id": "RjbLMRcZ4EKG"
   },
   "source": [
    "# Load the Data"
   ]
  },
  {
   "cell_type": "markdown",
   "metadata": {
    "id": "v84AQlZIJwQz"
   },
   "source": [
    "Load necessary files in your workspace before running this code. Necessary files are our saved model, its variables, load_xtest.csv and load_ytest.csv. All of them are available on my GitHub repository page.\n",
    "\n",
    "-----------------------------------------------------\n",
    "Model must be saved in a folder named 'SavedModel', and inside of it, variables must be saved in a folder named 'variables' for these paths to work"
   ]
  },
  {
   "cell_type": "code",
   "execution_count": null,
   "metadata": {
    "colab": {
     "base_uri": "https://localhost:8080/"
    },
    "id": "IB0ORyYP4k_6",
    "outputId": "ce541557-881c-4db5-c714-813007952c10"
   },
   "outputs": [
    {
     "name": "stdout",
     "output_type": "stream",
     "text": [
      "Shape of x_test (10000, 784)\n"
     ]
    }
   ],
   "source": [
    "x_test = np.loadtxt(X_TEST_PATH, delimiter=';', dtype=float)\n",
    "print(f'Shape of x_test {x_test.shape}')"
   ]
  },
  {
   "cell_type": "code",
   "execution_count": null,
   "metadata": {
    "colab": {
     "base_uri": "https://localhost:8080/"
    },
    "id": "qutWTs3C4FT5",
    "outputId": "f9515651-f2c6-40d2-8f8f-3f9f0c69f627"
   },
   "outputs": [
    {
     "name": "stdout",
     "output_type": "stream",
     "text": [
      "Shape of y_test (10000,)\n"
     ]
    }
   ],
   "source": [
    "y_test = np.loadtxt(Y_TEST_PATH, delimiter=',', dtype=int)\n",
    "print(f'Shape of y_test {y_test.shape}')"
   ]
  },
  {
   "cell_type": "markdown",
   "metadata": {
    "id": "IiyMqPkw4G0r"
   },
   "source": [
    "# Create Session"
   ]
  },
  {
   "cell_type": "code",
   "execution_count": null,
   "metadata": {
    "id": "VfRDtA7V4HyH"
   },
   "outputs": [],
   "source": [
    "graph = tf.Graph()\n",
    "sess =  tf.compat.v1.Session(graph = graph)"
   ]
  },
  {
   "cell_type": "markdown",
   "metadata": {
    "id": "-_QfWk9L4JPI"
   },
   "source": [
    "#Load the Model\n",
    "\n",
    "```\n",
    "tf.compat.v1.saved_model.load(sess,\n",
    "                           [tag_constants.SERVING],\n",
    "                           EXPORT_DIR)\n",
    "```"
   ]
  },
  {
   "cell_type": "code",
   "execution_count": null,
   "metadata": {
    "id": "JtZG3FG24KKz"
   },
   "outputs": [],
   "source": [
    "load(sess = sess, tags = [tag_constants.SERVING], export_dir = 'SavedModel')"
   ]
  },
  {
   "cell_type": "markdown",
   "metadata": {
    "id": "COH-qd0d4MRg"
   },
   "source": [
    "# Run Session & Make Prediction"
   ]
  },
  {
   "cell_type": "code",
   "execution_count": null,
   "metadata": {
    "id": "a6b_19Il4Ooo"
   },
   "outputs": [],
   "source": [
    "X = graph.get_tensor_by_name('X:0')\n",
    "\n",
    "#Get hold of the tensor that will hold the predictions from the graph. Store these under y_pred\n",
    "\n",
    "y_pred = graph.get_tensor_by_name('accuracy_calc/prediction:0')"
   ]
  },
  {
   "cell_type": "code",
   "execution_count": null,
   "metadata": {
    "id": "coP1DPoyGWpR"
   },
   "outputs": [],
   "source": [
    "prediction = sess.run(fetches = y_pred, feed_dict = {X: x_test})"
   ]
  },
  {
   "cell_type": "markdown",
   "metadata": {
    "id": "zdVxz2VW4QLy"
   },
   "source": [
    "# Check Results"
   ]
  },
  {
   "cell_type": "code",
   "execution_count": null,
   "metadata": {
    "colab": {
     "base_uri": "https://localhost:8080/"
    },
    "id": "KxUOKx-44Rxm",
    "outputId": "96ca0d24-c63f-4662-f7f4-381ec2a28590"
   },
   "outputs": [
    {
     "data": {
      "text/plain": [
       "array([7, 2, 1, 0, 4])"
      ]
     },
     "execution_count": 11,
     "metadata": {},
     "output_type": "execute_result"
    }
   ],
   "source": [
    "y_test[:5]"
   ]
  },
  {
   "cell_type": "code",
   "execution_count": null,
   "metadata": {
    "colab": {
     "base_uri": "https://localhost:8080/"
    },
    "id": "wb8DXyTpHSZD",
    "outputId": "6b6b9158-15e4-425b-c300-2622d7d925e7"
   },
   "outputs": [
    {
     "data": {
      "text/plain": [
       "array([7, 2, 1, 0, 4])"
      ]
     },
     "execution_count": 12,
     "metadata": {},
     "output_type": "execute_result"
    }
   ],
   "source": [
    "prediction[:5]"
   ]
  },
  {
   "cell_type": "code",
   "execution_count": null,
   "metadata": {
    "colab": {
     "base_uri": "https://localhost:8080/"
    },
    "id": "d3cBZ-PgHSCi",
    "outputId": "561b2e2a-1ef3-408e-a2ea-8dd87b7e4085"
   },
   "outputs": [
    {
     "name": "stdout",
     "output_type": "stream",
     "text": [
      "The percentage of right predictions is  91.48%\n"
     ]
    }
   ],
   "source": [
    "nr_correct = sum(np.equal(y_test, prediction))\n",
    "print(f'The percentage of right predictions is {nr_correct/len(prediction): .2%}')"
   ]
  },
  {
   "cell_type": "markdown",
   "metadata": {
    "id": "gNFE5ENK4S9a"
   },
   "source": [
    "# Cleanup"
   ]
  },
  {
   "cell_type": "code",
   "execution_count": null,
   "metadata": {
    "id": "N1AMGox34Tv-"
   },
   "outputs": [],
   "source": [
    "sess.close()\n",
    "tf.compat.v1.reset_default_graph()"
   ]
  }
 ],
 "metadata": {
  "colab": {
   "provenance": []
  },
  "kernelspec": {
   "display_name": "Python 3 (ipykernel)",
   "language": "python",
   "name": "python3"
  },
  "language_info": {
   "codemirror_mode": {
    "name": "ipython",
    "version": 3
   },
   "file_extension": ".py",
   "mimetype": "text/x-python",
   "name": "python",
   "nbconvert_exporter": "python",
   "pygments_lexer": "ipython3",
   "version": "3.9.13"
  }
 },
 "nbformat": 4,
 "nbformat_minor": 1
}
